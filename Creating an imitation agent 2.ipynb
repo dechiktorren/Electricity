{
 "cells": [
  {
   "cell_type": "code",
   "execution_count": 1,
   "metadata": {},
   "outputs": [
    {
     "name": "stderr",
     "output_type": "stream",
     "text": [
      "Using custom reward signal CustomRewardSignal of file /home/tp-home009/agardil/Documents/projects/Mini-projet-Electricity/starting-kit/sample_data/reward_signal.py\n"
     ]
    },
    {
     "name": "stdout",
     "output_type": "stream",
     "text": [
      "\n",
      "  ====================================================\n",
      "                     GAME PARAMETERS\n",
      "  ====================================================\n",
      "    loadflow_backend: pypower\n",
      "    n_timesteps_hard_overflow_is_broken: 10\n",
      "    max_number_prods_game_over: 3\n",
      "    n_timesteps_horizon_maintenance: 48\n",
      "    max_seconds_per_timestep: 1.0\n",
      "    max_number_loads_game_over: 6\n",
      "    hard_overflow_coefficient: 1.0\n",
      "    n_timesteps_soft_overflow_is_broken: 10\n",
      "    n_timesteps_consecutive_soft_overflow_breaks: 10\n",
      "    loadflow_mode: AC\n",
      "  ====================================================\n",
      "\n"
     ]
    }
   ],
   "source": [
    "# We create the environment\n",
    "import os\n",
    "import pypownet.environment\n",
    "data_dir = 'sample_data'  \n",
    "environment = pypownet.environment.RunEnv(parameters_folder=os.path.abspath(data_dir),\n",
    "                                              game_level=\"hard\",\n",
    "                                              chronic_looping_mode='natural', start_id=0,\n",
    "                                              game_over_mode=\"soft\")"
   ]
  },
  {
   "cell_type": "code",
   "execution_count": 4,
   "metadata": {},
   "outputs": [
    {
     "name": "stdout",
     "output_type": "stream",
     "text": [
      "Storing actions at saved_actions.csv\n",
      "Storing actions at saved_actions_RandomNodeSplitting.csv\n",
      "Storing actions at saved_actions_RandomLineSwitch.csv\n"
     ]
    }
   ],
   "source": [
    "# We import our agents\n",
    "from pypownet.agent import GreedySearch, RandomNodeSplitting, RandomLineSwitch\n",
    "\n",
    "# Instantiation of agents.\n",
    "GS_agent = GreedySearch(environment)\n",
    "GS_agent.verbose = False\n",
    "\n",
    "RNS_agent = RandomNodeSplitting(environment)\n",
    "RNS_agent.verbose = False\n",
    "\n",
    "RLS_agent = RandomLineSwitch(environment)\n",
    "RLS_agent.verbose = False\n"
   ]
  },
  {
   "cell_type": "code",
   "execution_count": 6,
   "metadata": {
    "scrolled": true
   },
   "outputs": [
    {
     "name": "stdout",
     "output_type": "stream",
     "text": [
      "(7000, 428)\n",
      "(7000, 76)\n"
     ]
    }
   ],
   "source": [
    "# Creation of data for supervised learning.\n",
    "\n",
    "import numpy as np\n",
    "\n",
    "# initial state\n",
    "current_state = environment.reset()\n",
    "\n",
    "# States and actions are saved in lists.\n",
    "X = []\n",
    "Y = []\n",
    "learning_steps = 10000\n",
    "\n",
    "# We repeat the learning processs 'learning_steps' times\n",
    "for i in range(learning_steps): \n",
    "    #print(i/100)\n",
    "    \n",
    "    #Test if the grid has broken down (GameOver) we reset the environement\n",
    "    if current_state is None:\n",
    "        current_state = environment.reset()\n",
    "    \n",
    "    # Trying to disturb the environement\n",
    "    # in order to get crutial states and see what gready search do and try to learn from him\n",
    "    # with probability of 0.3, we take random actions in order to disturb the grid\n",
    "    # Aving the two types of perturbations improve the data significantly\n",
    "    \n",
    "    epsilon = np.random.random()\n",
    "    \n",
    "    if epsilon < 0.15:\n",
    "        current_action = RNS_agent.act(current_state)\n",
    "        #We save nothing\n",
    "    elif epsilon < 0.30:\n",
    "        current_action = RLS_agent.act(current_state)\n",
    "        #We save nothing\n",
    "    else:\n",
    "        current_action = GS_agent.act(current_state)\n",
    "        # We save the actions and the state in order to do the supervised learning\n",
    "        X.append(current_state.as_array())\n",
    "        Y.append(current_action.as_array())\n",
    "        \n",
    "    \n",
    "    \n",
    "    # We give the action to the environnement, and get back a new state\n",
    "    new_state, action, reward, _ = environment.step(current_action)\n",
    "    current_state = new_state\n",
    "\n",
    "# numpy.array are more practicle to use\n",
    "X = np.array(X)\n",
    "Y = np.array(Y)\n",
    "\n",
    "print(X.shape)\n",
    "print(Y.shape)"
   ]
  },
  {
   "cell_type": "code",
   "execution_count": 7,
   "metadata": {},
   "outputs": [],
   "source": [
    "# We make the correspondences between actions and labels\n",
    "# allows to reduce the space of the actions, and to avoid taking some that do not have any sense.\n",
    "\n",
    "#print(Y)\n",
    "\n",
    "# We create a table with a single copy of each action performed.\n",
    "U = np.unique(Y, axis=0)\n",
    "\n",
    "# Functions to recover the status from the label, and vice versa\n",
    "\n",
    "def Y_array_to_Y_label(Y, U):\n",
    "    \"\"\" Function to transform an array of actions into their labels, ie their index in the table U. \"\"\"\n",
    "    Nb_actions = Y.shape[0] # number of actions inside Y\n",
    "    Nb_labels = U.shape[0] # number of actions inside U\n",
    "    \n",
    "    # An empty id\n",
    "    Y_id = np.full(Nb_actions, 0)\n",
    "\n",
    "    #we searche the index of each action in the label table and add it to res\n",
    "    for i in range(Nb_actions):\n",
    "        for j in range(Nb_labels):\n",
    "            if (Y[i] == U[j]).all():\n",
    "                Y_id[i] = j\n",
    "                \n",
    "    return Y_id\n",
    "\n",
    "def Y_label_to_Y_array(Y_id, U):\n",
    "    \"\"\" Function to transform an array of indices into their respectival actions, according to table U. \"\"\"\n",
    "    # Number of actions in Y_id\n",
    "    N = Y_id.shape[0]\n",
    "    res = []\n",
    "    \n",
    "    # We use the correspundance table (the id is simply the index of the table)\n",
    "    for i in Y_id:\n",
    "        res.append(U[i])\n",
    "    \n",
    "    return np.array(res)\n",
    "    \n",
    "    \n",
    "# Let's run some tests\n",
    "Y_label = Y_array_to_Y_label(Y, U)\n",
    "assert (U.size < 2) or (Y_array_to_Y_label(U[0], U) == Y_array_to_Y_label(U[1], U)).all()\n",
    "assert (Y_label_to_Y_array(Y_label, U) == Y).all()\n"
   ]
  },
  {
   "cell_type": "code",
   "execution_count": 8,
   "metadata": {},
   "outputs": [
    {
     "name": "stdout",
     "output_type": "stream",
     "text": [
      "0.732\n",
      "sur l'ensemble d'apprentissage, score de 73.2 %\n"
     ]
    }
   ],
   "source": [
    "# we import the classifier, and a module to save its parameters.\n",
    "from sklearn.neural_network import MLPClassifier\n",
    "import pickle\n",
    "\n",
    "# Instanciation of our classifier, which consists here in a multi-layered perceptron\n",
    "clf = MLPClassifier(solver='adam', alpha=1e-5, batch_size = 10 ,hidden_layer_sizes=(100,100), random_state=1)\n",
    "\n",
    "# We train our classifier\n",
    "clf.fit(X, Y_label)\n",
    "print(clf.score(X, Y_label))\n",
    "\n",
    "#tests\n",
    "#assert clf.predict(np.array([X[0]]))[0] == Y_label[1]\n",
    "\n",
    "# What's the score of our model ?\n",
    "N = X.shape[0]\n",
    "Y_predit = clf.predict(X)\n",
    "score = 0\n",
    "for y_exacte, y_exp in zip(Y_label, Y_predit):\n",
    "    if y_exacte == y_exp:\n",
    "        score += 1\n",
    "print(\"sur l'ensemble d'apprentissage, score de \" + str(100*score/N) + \" %\")\n",
    "    \n",
    "\n",
    "\n",
    "# We save the parameters, to load them into our imitation agent\n",
    "\n",
    "filename = 'parameters_MLP.sav'\n",
    "pickle.dump(clf, open(filename, 'wb'))\n",
    "np.save('tableauU.npy', U)\n"
   ]
  },
  {
   "cell_type": "code",
   "execution_count": 9,
   "metadata": {},
   "outputs": [
    {
     "data": {
      "text/plain": [
       "MLPClassifier(activation='relu', alpha=1e-05, batch_size=10, beta_1=0.9,\n",
       "       beta_2=0.999, early_stopping=False, epsilon=1e-08,\n",
       "       hidden_layer_sizes=(100, 100), learning_rate='constant',\n",
       "       learning_rate_init=0.001, max_iter=200, momentum=0.9,\n",
       "       n_iter_no_change=10, nesterovs_momentum=True, power_t=0.5,\n",
       "       random_state=1, shuffle=True, solver='adam', tol=0.0001,\n",
       "       validation_fraction=0.1, verbose=False, warm_start=False)"
      ]
     },
     "execution_count": 9,
     "metadata": {},
     "output_type": "execute_result"
    }
   ],
   "source": [
    "# Details about the classifier\n",
    "clf"
   ]
  },
  {
   "cell_type": "code",
   "execution_count": 10,
   "metadata": {},
   "outputs": [
    {
     "name": "stdout",
     "output_type": "stream",
     "text": [
      "(7000, 428)\n",
      "(7000,)\n"
     ]
    }
   ],
   "source": [
    "# Details about the data\n",
    "print(X.shape)\n",
    "print(Y_label.shape)"
   ]
  },
  {
   "cell_type": "code",
   "execution_count": null,
   "metadata": {},
   "outputs": [],
   "source": []
  },
  {
   "cell_type": "code",
   "execution_count": 12,
   "metadata": {},
   "outputs": [
    {
     "data": {
      "text/plain": [
       "array([ 1.67000008e+01,  8.00999985e+01,  3.90000000e+01,  6.19999981e+00,\n",
       "        8.60000038e+00,  2.42999992e+01,  6.90000010e+00,  2.70000005e+00,\n",
       "        4.90000010e+00,  1.11000004e+01,  1.23999996e+01,  0.00000000e+00,\n",
       "        0.00000000e+00,  0.00000000e+00,  0.00000000e+00,  0.00000000e+00,\n",
       "        0.00000000e+00,  0.00000000e+00,  0.00000000e+00,  0.00000000e+00,\n",
       "        0.00000000e+00,  0.00000000e+00,  1.67999992e+01,  7.90999985e+01,\n",
       "        3.82999992e+01,  6.09999990e+00,  8.69999981e+00,  2.37999992e+01,\n",
       "        6.80000019e+00,  2.70000005e+00,  4.80000019e+00,  1.10000000e+01,\n",
       "        1.23999996e+01,  0.00000000e+00,  0.00000000e+00,  0.00000000e+00,\n",
       "        0.00000000e+00,  0.00000000e+00,  0.00000000e+00,  0.00000000e+00,\n",
       "        0.00000000e+00,  0.00000000e+00,  0.00000000e+00,  0.00000000e+00,\n",
       "        8.80000000e+01, -0.00000000e+00,  7.80000000e+01,  4.74000015e+01,\n",
       "       -0.00000000e+00,  0.00000000e+00,  0.00000000e+00,  0.00000000e+00,\n",
       "        0.00000000e+00,  0.00000000e+00,  9.11999969e+01, -0.00000000e+00,\n",
       "        7.60999985e+01,  4.74000015e+01, -0.00000000e+00,  0.00000000e+00,\n",
       "        0.00000000e+00,  0.00000000e+00,  0.00000000e+00,  0.00000000e+00,\n",
       "        0.00000000e+00,  0.00000000e+00,  0.00000000e+00,  0.00000000e+00,\n",
       "        0.00000000e+00,  0.00000000e+00,  0.00000000e+00,  0.00000000e+00,\n",
       "        0.00000000e+00,  0.00000000e+00,  0.00000000e+00,  0.00000000e+00,\n",
       "        0.00000000e+00,  0.00000000e+00,  0.00000000e+00,  0.00000000e+00,\n",
       "        0.00000000e+00,  0.00000000e+00,  0.00000000e+00,  0.00000000e+00,\n",
       "        0.00000000e+00,  0.00000000e+00,  0.00000000e+00,  0.00000000e+00,\n",
       "        0.00000000e+00,  0.00000000e+00,  0.00000000e+00,  0.00000000e+00,\n",
       "        0.00000000e+00,  0.00000000e+00,  0.00000000e+00,  0.00000000e+00,\n",
       "        0.00000000e+00,  0.00000000e+00,  0.00000000e+00,  0.00000000e+00,\n",
       "        0.00000000e+00,  0.00000000e+00,  0.00000000e+00,  0.00000000e+00,\n",
       "        3.81730378e+01,  1.72524129e+01,  1.53941716e+01,  1.38889045e+01,\n",
       "        9.06939235e+00,  9.59519648e+00,  2.08824834e+01,  1.13927785e+01,\n",
       "        4.66281983e+00,  6.27326146e+00,  1.13476846e+01,  4.45249663e+00,\n",
       "        7.76038616e+00,  1.41034072e+01,  9.78293895e+00,  4.61256251e+00,\n",
       "        3.96497816e+00,  6.27952549e+00,  1.32386610e+00,  5.54093646e+00,\n",
       "        1.00000000e+00,  1.00000000e+00,  1.00000000e+00,  1.00000000e+00,\n",
       "        1.00000000e+00,  1.00000000e+00,  1.00000000e+00,  1.00000000e+00,\n",
       "        1.00000000e+00,  1.00000000e+00,  1.00000000e+00,  1.00000000e+00,\n",
       "        1.00000000e+00,  1.00000000e+00,  1.00000000e+00,  1.00000000e+00,\n",
       "        1.00000000e+00,  1.00000000e+00,  1.00000000e+00,  1.00000000e+00,\n",
       "        0.00000000e+00,  0.00000000e+00,  0.00000000e+00,  0.00000000e+00,\n",
       "        0.00000000e+00,  0.00000000e+00,  0.00000000e+00,  0.00000000e+00,\n",
       "        0.00000000e+00,  0.00000000e+00,  0.00000000e+00,  0.00000000e+00,\n",
       "        0.00000000e+00,  0.00000000e+00,  0.00000000e+00,  0.00000000e+00,\n",
       "        0.00000000e+00,  0.00000000e+00,  0.00000000e+00,  0.00000000e+00,\n",
       "        0.00000000e+00,  0.00000000e+00,  0.00000000e+00,  0.00000000e+00,\n",
       "        0.00000000e+00,  0.00000000e+00,  0.00000000e+00,  0.00000000e+00,\n",
       "        0.00000000e+00,  0.00000000e+00,  0.00000000e+00,  0.00000000e+00,\n",
       "        0.00000000e+00,  0.00000000e+00,  0.00000000e+00,  0.00000000e+00,\n",
       "        0.00000000e+00,  0.00000000e+00,  0.00000000e+00,  0.00000000e+00,\n",
       "        1.18000002e+01,  5.62000008e+01,  2.68999996e+01,  4.30000019e+00,\n",
       "        6.30000019e+00,  1.67999992e+01,  4.69999981e+00,  1.89999998e+00,\n",
       "        3.40000010e+00,  7.80000019e+00,  8.89999962e+00,  1.05199997e+00,\n",
       "        9.95000000e-01,  1.01824419e+00,  1.02816934e+00,  1.07800003e+00,\n",
       "        1.05855668e+00,  1.05538754e+00,  1.06277031e+00,  1.06062669e+00,\n",
       "        1.05512096e+00,  1.03488317e+00,  3.54707809e+01,  3.10348155e+01,\n",
       "        1.25716598e+01,  1.02788611e+01,  2.71881620e+01,  1.06000000e+00,\n",
       "        1.04500000e+00,  1.01000000e+00,  1.07000000e+00,  1.09000000e+00,\n",
       "        6.80074403e+01,  2.88016530e+01,  1.31165817e+01,  2.27745461e+01,\n",
       "        1.45459365e+01,  4.62898634e+00, -3.45059735e+01,  1.42571324e+01,\n",
       "        8.12068169e+00,  1.78467123e+00,  1.89845093e+01,  7.39202579e+00,\n",
       "        1.44081379e+01,  9.71445147e-15,  1.42571308e+01,  2.60229066e+00,\n",
       "       -4.52447387e+00, -1.14394763e+01,  2.41892343e+00,  1.00362755e+01,\n",
       "        2.11108180e+01,  1.43599629e+01,  2.47942958e+01,  1.10351784e+01,\n",
       "        7.84269088e+00, -1.58751612e+01, -1.28741181e+01, -1.41583210e+01,\n",
       "       -1.29687468e+00,  1.10282132e+01,  9.40813005e+00,  3.80420165e+00,\n",
       "        1.53629334e+00, -2.61370427e+01,  1.11998700e+01,  8.04668600e+00,\n",
       "        5.69011812e+00,  9.50267033e-01,  2.52058160e-01,  1.34643506e+00,\n",
       "        1.07699997e+00,  1.07699997e+00,  1.05199997e+00,  1.05199997e+00,\n",
       "        1.05199997e+00,  9.95000000e-01,  1.01824419e+00,  1.01824419e+00,\n",
       "        1.01824419e+00,  1.02816934e+00,  1.07800003e+00,  1.07800003e+00,\n",
       "        1.07800003e+00,  1.06997043e+00,  1.06997043e+00,  1.05855668e+00,\n",
       "        1.05855668e+00,  1.05538754e+00,  1.06062669e+00,  1.05512096e+00,\n",
       "       -6.71370667e+01, -2.82772337e+01, -1.27289854e+01, -2.24145994e+01,\n",
       "       -1.43880657e+01, -4.45724729e+00,  3.46806228e+01, -1.42571324e+01,\n",
       "       -8.12068169e+00, -1.78467123e+00, -1.87289654e+01, -7.31892608e+00,\n",
       "       -1.42365368e+01, -1.04083409e-14, -1.42571308e+01, -2.52115991e+00,\n",
       "        4.53947647e+00,  1.15365393e+01, -2.40730776e+00, -9.87883879e+00,\n",
       "       -2.44373498e+01, -1.76490899e+01, -2.77531797e+01, -1.35870046e+01,\n",
       "       -1.11041153e+01,  1.50163102e+01,  1.34250156e+01,  1.49371710e+01,\n",
       "        1.63750355e+00, -1.07697641e+01, -8.90488423e+00, -3.65206076e+00,\n",
       "       -1.17693916e+00,  2.71881620e+01, -1.08840119e+01, -7.87411002e+00,\n",
       "       -5.65026525e+00, -7.23053369e-01, -2.41548741e-01, -1.02588800e+00,\n",
       "        1.05199997e+00,  1.02816934e+00,  9.95000000e-01,  1.01824419e+00,\n",
       "        1.02816934e+00,  1.01824419e+00,  1.02816934e+00,  1.06997043e+00,\n",
       "        1.05855668e+00,  1.07800003e+00,  1.05512096e+00,  1.06062669e+00,\n",
       "        1.06277031e+00,  1.11300003e+00,  1.05855668e+00,  1.03488317e+00,\n",
       "        1.05538754e+00,  1.06277031e+00,  1.05512096e+00,  1.03488317e+00,\n",
       "        1.18000002e+01,  5.54000015e+01,  2.67999992e+01,  4.30000019e+00,\n",
       "        6.09999990e+00,  1.66000004e+01,  4.69999981e+00,  1.89999998e+00,\n",
       "        3.40000010e+00,  7.69999981e+00,  8.69999981e+00,  1.06000000e+00,\n",
       "        1.04500000e+00,  1.01000000e+00,  1.07000000e+00,  1.09000000e+00,\n",
       "        2.00000000e+00,  3.00000000e+00,  4.00000000e+00,  5.00000000e+00,\n",
       "        6.00000000e+00,  9.00000000e+00,  1.00000000e+01,  1.10000000e+01,\n",
       "        1.20000000e+01,  1.30000000e+01,  1.40000000e+01,  1.00000000e+00,\n",
       "        2.00000000e+00,  3.00000000e+00,  6.00000000e+00,  8.00000000e+00,\n",
       "        1.00000000e+00,  1.00000000e+00,  2.00000000e+00,  2.00000000e+00,\n",
       "        2.00000000e+00,  3.00000000e+00,  4.00000000e+00,  4.00000000e+00,\n",
       "        4.00000000e+00,  5.00000000e+00,  6.00000000e+00,  6.00000000e+00,\n",
       "        6.00000000e+00,  7.00000000e+00,  7.00000000e+00,  9.00000000e+00,\n",
       "        9.00000000e+00,  1.00000000e+01,  1.20000000e+01,  1.30000000e+01,\n",
       "        2.00000000e+00,  5.00000000e+00,  3.00000000e+00,  4.00000000e+00,\n",
       "        5.00000000e+00,  4.00000000e+00,  5.00000000e+00,  7.00000000e+00,\n",
       "        9.00000000e+00,  6.00000000e+00,  1.30000000e+01,  1.20000000e+01,\n",
       "        1.10000000e+01,  8.00000000e+00,  9.00000000e+00,  1.40000000e+01,\n",
       "        1.00000000e+01,  1.10000000e+01,  1.30000000e+01,  1.40000000e+01,\n",
       "        1.00000000e+02,  1.00000000e+02,  1.00000000e+02,  1.00000000e+02,\n",
       "        1.00000000e+02,  1.00000000e+02,  1.00000000e+02,  1.00000000e+02,\n",
       "        1.00000000e+02,  1.00000000e+02,  1.00000000e+02,  1.00000000e+02,\n",
       "        1.00000000e+02,  1.00000000e+02,  1.00000000e+02,  1.00000000e+02,\n",
       "        1.00000000e+02,  1.00000000e+02,  1.00000000e+02,  1.00000000e+02])"
      ]
     },
     "execution_count": 12,
     "metadata": {},
     "output_type": "execute_result"
    }
   ],
   "source": [
    "# An example of state array\n",
    "X[0]"
   ]
  },
  {
   "cell_type": "code",
   "execution_count": 13,
   "metadata": {},
   "outputs": [
    {
     "data": {
      "text/plain": [
       "array([0, 0, 0, 0, 0, 0, 0, 0, 0, 0, 0, 0, 0, 0, 0, 0, 0, 0, 0, 0, 0, 0,\n",
       "       0, 0, 0, 1, 0, 0, 0, 0, 0, 0, 0, 0, 0, 0, 0, 1, 0, 0, 0, 0, 1, 0,\n",
       "       0, 0, 0, 0, 0, 0, 0, 0, 0, 0, 0, 0, 0, 0, 0, 0, 0, 0, 0, 0, 0, 0,\n",
       "       0, 0, 0, 0, 0, 0, 0, 0, 0, 0])"
      ]
     },
     "execution_count": 13,
     "metadata": {},
     "output_type": "execute_result"
    }
   ],
   "source": [
    "# An example of action array\n",
    "Y[0]"
   ]
  },
  {
   "cell_type": "code",
   "execution_count": null,
   "metadata": {},
   "outputs": [],
   "source": []
  }
 ],
 "metadata": {
  "kernelspec": {
   "display_name": "Python 3",
   "language": "python",
   "name": "python3"
  },
  "language_info": {
   "codemirror_mode": {
    "name": "ipython",
    "version": 3
   },
   "file_extension": ".py",
   "mimetype": "text/x-python",
   "name": "python",
   "nbconvert_exporter": "python",
   "pygments_lexer": "ipython3",
   "version": "3.6.7"
  }
 },
 "nbformat": 4,
 "nbformat_minor": 2
}
